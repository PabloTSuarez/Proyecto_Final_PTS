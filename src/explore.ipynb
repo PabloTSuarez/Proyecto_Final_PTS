{
    "cells": [
        {
            "cell_type": "code",
            "execution_count": 5,
            "metadata": {},
            "outputs": [
                {
                    "name": "stdout",
                    "output_type": "stream",
                    "text": [
                        "Dataset URL: https://www.kaggle.com/datasets/austinreese/craigslist-carstrucks-data\n",
                        "           id                                                url  \\\n",
                        "0  7222695916  https://prescott.craigslist.org/cto/d/prescott...   \n",
                        "1  7218891961  https://fayar.craigslist.org/ctd/d/bentonville...   \n",
                        "2  7221797935  https://keys.craigslist.org/cto/d/summerland-k...   \n",
                        "3  7222270760  https://worcester.craigslist.org/cto/d/west-br...   \n",
                        "4  7210384030  https://greensboro.craigslist.org/cto/d/trinit...   \n",
                        "\n",
                        "                   region                         region_url  price  year  \\\n",
                        "0                prescott    https://prescott.craigslist.org   6000   NaN   \n",
                        "1            fayetteville       https://fayar.craigslist.org  11900   NaN   \n",
                        "2            florida keys        https://keys.craigslist.org  21000   NaN   \n",
                        "3  worcester / central MA   https://worcester.craigslist.org   1500   NaN   \n",
                        "4              greensboro  https://greensboro.craigslist.org   4900   NaN   \n",
                        "\n",
                        "  manufacturer model condition cylinders  ... size  type paint_color  \\\n",
                        "0          NaN   NaN       NaN       NaN  ...  NaN   NaN         NaN   \n",
                        "1          NaN   NaN       NaN       NaN  ...  NaN   NaN         NaN   \n",
                        "2          NaN   NaN       NaN       NaN  ...  NaN   NaN         NaN   \n",
                        "3          NaN   NaN       NaN       NaN  ...  NaN   NaN         NaN   \n",
                        "4          NaN   NaN       NaN       NaN  ...  NaN   NaN         NaN   \n",
                        "\n",
                        "  image_url description county state lat long posting_date  \n",
                        "0       NaN         NaN    NaN    az NaN  NaN          NaN  \n",
                        "1       NaN         NaN    NaN    ar NaN  NaN          NaN  \n",
                        "2       NaN         NaN    NaN    fl NaN  NaN          NaN  \n",
                        "3       NaN         NaN    NaN    ma NaN  NaN          NaN  \n",
                        "4       NaN         NaN    NaN    nc NaN  NaN          NaN  \n",
                        "\n",
                        "[5 rows x 26 columns]\n"
                    ]
                }
            ],
            "source": [
                "import os\n",
                "import kaggle\n",
                "import pandas as pd\n",
                "\n",
                "# Configurar las credenciales de Kaggle\n",
                "os.environ['KAGGLE_USERNAME'] = 'sergiogrigorow'\n",
                "os.environ['KAGGLE_KEY'] = '53eaa416645f87b31ba66153190551e0'\n",
                "\n",
                "# Autenticarse en Kaggle\n",
                "kaggle.api.authenticate()\n",
                "\n",
                "# Ruta donde se guardará el archivo descargado\n",
                "directorio = 'C:/Users/sergi/Proyectos/Proyecto_Final/data/raw'\n",
                "\n",
                "# Descargar y descomprimir el dataset\n",
                "kaggle.api.dataset_download_files('austinreese/craigslist-carstrucks-data', path=directorio, unzip=True)\n",
                "\n"
            ]
        },
        {
            "cell_type": "code",
            "execution_count": 52,
            "metadata": {},
            "outputs": [
                {
                    "name": "stdout",
                    "output_type": "stream",
                    "text": [
                        "           id                                                url  \\\n",
                        "0  7222695916  https://prescott.craigslist.org/cto/d/prescott...   \n",
                        "1  7218891961  https://fayar.craigslist.org/ctd/d/bentonville...   \n",
                        "2  7221797935  https://keys.craigslist.org/cto/d/summerland-k...   \n",
                        "3  7222270760  https://worcester.craigslist.org/cto/d/west-br...   \n",
                        "4  7210384030  https://greensboro.craigslist.org/cto/d/trinit...   \n",
                        "\n",
                        "                   region                         region_url  price  year  \\\n",
                        "0                prescott    https://prescott.craigslist.org   6000   NaN   \n",
                        "1            fayetteville       https://fayar.craigslist.org  11900   NaN   \n",
                        "2            florida keys        https://keys.craigslist.org  21000   NaN   \n",
                        "3  worcester / central MA   https://worcester.craigslist.org   1500   NaN   \n",
                        "4              greensboro  https://greensboro.craigslist.org   4900   NaN   \n",
                        "\n",
                        "  manufacturer model condition cylinders  ... size  type paint_color  \\\n",
                        "0          NaN   NaN       NaN       NaN  ...  NaN   NaN         NaN   \n",
                        "1          NaN   NaN       NaN       NaN  ...  NaN   NaN         NaN   \n",
                        "2          NaN   NaN       NaN       NaN  ...  NaN   NaN         NaN   \n",
                        "3          NaN   NaN       NaN       NaN  ...  NaN   NaN         NaN   \n",
                        "4          NaN   NaN       NaN       NaN  ...  NaN   NaN         NaN   \n",
                        "\n",
                        "  image_url description county state lat long posting_date  \n",
                        "0       NaN         NaN    NaN    az NaN  NaN          NaN  \n",
                        "1       NaN         NaN    NaN    ar NaN  NaN          NaN  \n",
                        "2       NaN         NaN    NaN    fl NaN  NaN          NaN  \n",
                        "3       NaN         NaN    NaN    ma NaN  NaN          NaN  \n",
                        "4       NaN         NaN    NaN    nc NaN  NaN          NaN  \n",
                        "\n",
                        "[5 rows x 26 columns]\n"
                    ]
                }
            ],
            "source": [
                "# Leer el archivo CSV descargado\n",
                "directorio_csv = os.path.join(directorio, 'vehicles.csv')\n",
                "df = pd.read_csv(directorio_csv)\n",
                "\n",
                "# Mostrar las primeras filas del DataFrame\n",
                "print(df.head())"
            ]
        },
        {
            "cell_type": "code",
            "execution_count": 53,
            "metadata": {},
            "outputs": [
                {
                    "name": "stdout",
                    "output_type": "stream",
                    "text": [
                        "<class 'pandas.core.frame.DataFrame'>\n",
                        "RangeIndex: 426880 entries, 0 to 426879\n",
                        "Data columns (total 26 columns):\n",
                        " #   Column        Non-Null Count   Dtype  \n",
                        "---  ------        --------------   -----  \n",
                        " 0   id            426880 non-null  int64  \n",
                        " 1   url           426880 non-null  object \n",
                        " 2   region        426880 non-null  object \n",
                        " 3   region_url    426880 non-null  object \n",
                        " 4   price         426880 non-null  int64  \n",
                        " 5   year          425675 non-null  float64\n",
                        " 6   manufacturer  409234 non-null  object \n",
                        " 7   model         421603 non-null  object \n",
                        " 8   condition     252776 non-null  object \n",
                        " 9   cylinders     249202 non-null  object \n",
                        " 10  fuel          423867 non-null  object \n",
                        " 11  odometer      422480 non-null  float64\n",
                        " 12  title_status  418638 non-null  object \n",
                        " 13  transmission  424324 non-null  object \n",
                        " 14  VIN           265838 non-null  object \n",
                        " 15  drive         296313 non-null  object \n",
                        " 16  size          120519 non-null  object \n",
                        " 17  type          334022 non-null  object \n",
                        " 18  paint_color   296677 non-null  object \n",
                        " 19  image_url     426812 non-null  object \n",
                        " 20  description   426810 non-null  object \n",
                        " 21  county        0 non-null       float64\n",
                        " 22  state         426880 non-null  object \n",
                        " 23  lat           420331 non-null  float64\n",
                        " 24  long          420331 non-null  float64\n",
                        " 25  posting_date  426812 non-null  object \n",
                        "dtypes: float64(5), int64(2), object(19)\n",
                        "memory usage: 84.7+ MB\n"
                    ]
                }
            ],
            "source": [
                "df.info()\n"
            ]
        },
        {
            "cell_type": "code",
            "execution_count": 54,
            "metadata": {},
            "outputs": [
                {
                    "data": {
                        "text/plain": [
                            "id                   0\n",
                            "url                  0\n",
                            "region               0\n",
                            "region_url           0\n",
                            "price                0\n",
                            "year              1205\n",
                            "manufacturer     17646\n",
                            "model             5277\n",
                            "condition       174104\n",
                            "cylinders       177678\n",
                            "fuel              3013\n",
                            "odometer          4400\n",
                            "title_status      8242\n",
                            "transmission      2556\n",
                            "VIN             161042\n",
                            "drive           130567\n",
                            "size            306361\n",
                            "type             92858\n",
                            "paint_color     130203\n",
                            "image_url           68\n",
                            "description         70\n",
                            "county          426880\n",
                            "state                0\n",
                            "lat               6549\n",
                            "long              6549\n",
                            "posting_date        68\n",
                            "dtype: int64"
                        ]
                    },
                    "execution_count": 54,
                    "metadata": {},
                    "output_type": "execute_result"
                }
            ],
            "source": [
                "nulos = df.isnull().sum()\n",
                "nulos"
            ]
        },
        {
            "cell_type": "code",
            "execution_count": 55,
            "metadata": {},
            "outputs": [
                {
                    "data": {
                        "text/html": [
                            "<div>\n",
                            "<style scoped>\n",
                            "    .dataframe tbody tr th:only-of-type {\n",
                            "        vertical-align: middle;\n",
                            "    }\n",
                            "\n",
                            "    .dataframe tbody tr th {\n",
                            "        vertical-align: top;\n",
                            "    }\n",
                            "\n",
                            "    .dataframe thead th {\n",
                            "        text-align: right;\n",
                            "    }\n",
                            "</style>\n",
                            "<table border=\"1\" class=\"dataframe\">\n",
                            "  <thead>\n",
                            "    <tr style=\"text-align: right;\">\n",
                            "      <th></th>\n",
                            "      <th>id</th>\n",
                            "      <th>price</th>\n",
                            "      <th>year</th>\n",
                            "      <th>odometer</th>\n",
                            "      <th>county</th>\n",
                            "      <th>lat</th>\n",
                            "      <th>long</th>\n",
                            "    </tr>\n",
                            "  </thead>\n",
                            "  <tbody>\n",
                            "    <tr>\n",
                            "      <th>count</th>\n",
                            "      <td>4.268800e+05</td>\n",
                            "      <td>4.268800e+05</td>\n",
                            "      <td>425675.000000</td>\n",
                            "      <td>4.224800e+05</td>\n",
                            "      <td>0.0</td>\n",
                            "      <td>420331.000000</td>\n",
                            "      <td>420331.000000</td>\n",
                            "    </tr>\n",
                            "    <tr>\n",
                            "      <th>mean</th>\n",
                            "      <td>7.311487e+09</td>\n",
                            "      <td>7.519903e+04</td>\n",
                            "      <td>2011.235191</td>\n",
                            "      <td>9.804333e+04</td>\n",
                            "      <td>NaN</td>\n",
                            "      <td>38.493940</td>\n",
                            "      <td>-94.748599</td>\n",
                            "    </tr>\n",
                            "    <tr>\n",
                            "      <th>std</th>\n",
                            "      <td>4.473170e+06</td>\n",
                            "      <td>1.218228e+07</td>\n",
                            "      <td>9.452120</td>\n",
                            "      <td>2.138815e+05</td>\n",
                            "      <td>NaN</td>\n",
                            "      <td>5.841533</td>\n",
                            "      <td>18.365462</td>\n",
                            "    </tr>\n",
                            "    <tr>\n",
                            "      <th>min</th>\n",
                            "      <td>7.207408e+09</td>\n",
                            "      <td>0.000000e+00</td>\n",
                            "      <td>1900.000000</td>\n",
                            "      <td>0.000000e+00</td>\n",
                            "      <td>NaN</td>\n",
                            "      <td>-84.122245</td>\n",
                            "      <td>-159.827728</td>\n",
                            "    </tr>\n",
                            "    <tr>\n",
                            "      <th>25%</th>\n",
                            "      <td>7.308143e+09</td>\n",
                            "      <td>5.900000e+03</td>\n",
                            "      <td>2008.000000</td>\n",
                            "      <td>3.770400e+04</td>\n",
                            "      <td>NaN</td>\n",
                            "      <td>34.601900</td>\n",
                            "      <td>-111.939847</td>\n",
                            "    </tr>\n",
                            "    <tr>\n",
                            "      <th>50%</th>\n",
                            "      <td>7.312621e+09</td>\n",
                            "      <td>1.395000e+04</td>\n",
                            "      <td>2013.000000</td>\n",
                            "      <td>8.554800e+04</td>\n",
                            "      <td>NaN</td>\n",
                            "      <td>39.150100</td>\n",
                            "      <td>-88.432600</td>\n",
                            "    </tr>\n",
                            "    <tr>\n",
                            "      <th>75%</th>\n",
                            "      <td>7.315254e+09</td>\n",
                            "      <td>2.648575e+04</td>\n",
                            "      <td>2017.000000</td>\n",
                            "      <td>1.335425e+05</td>\n",
                            "      <td>NaN</td>\n",
                            "      <td>42.398900</td>\n",
                            "      <td>-80.832039</td>\n",
                            "    </tr>\n",
                            "    <tr>\n",
                            "      <th>max</th>\n",
                            "      <td>7.317101e+09</td>\n",
                            "      <td>3.736929e+09</td>\n",
                            "      <td>2022.000000</td>\n",
                            "      <td>1.000000e+07</td>\n",
                            "      <td>NaN</td>\n",
                            "      <td>82.390818</td>\n",
                            "      <td>173.885502</td>\n",
                            "    </tr>\n",
                            "  </tbody>\n",
                            "</table>\n",
                            "</div>"
                        ],
                        "text/plain": [
                            "                 id         price           year      odometer  county  \\\n",
                            "count  4.268800e+05  4.268800e+05  425675.000000  4.224800e+05     0.0   \n",
                            "mean   7.311487e+09  7.519903e+04    2011.235191  9.804333e+04     NaN   \n",
                            "std    4.473170e+06  1.218228e+07       9.452120  2.138815e+05     NaN   \n",
                            "min    7.207408e+09  0.000000e+00    1900.000000  0.000000e+00     NaN   \n",
                            "25%    7.308143e+09  5.900000e+03    2008.000000  3.770400e+04     NaN   \n",
                            "50%    7.312621e+09  1.395000e+04    2013.000000  8.554800e+04     NaN   \n",
                            "75%    7.315254e+09  2.648575e+04    2017.000000  1.335425e+05     NaN   \n",
                            "max    7.317101e+09  3.736929e+09    2022.000000  1.000000e+07     NaN   \n",
                            "\n",
                            "                 lat           long  \n",
                            "count  420331.000000  420331.000000  \n",
                            "mean       38.493940     -94.748599  \n",
                            "std         5.841533      18.365462  \n",
                            "min       -84.122245    -159.827728  \n",
                            "25%        34.601900    -111.939847  \n",
                            "50%        39.150100     -88.432600  \n",
                            "75%        42.398900     -80.832039  \n",
                            "max        82.390818     173.885502  "
                        ]
                    },
                    "execution_count": 55,
                    "metadata": {},
                    "output_type": "execute_result"
                }
            ],
            "source": [
                "df.describe()"
            ]
        },
        {
            "cell_type": "code",
            "execution_count": 56,
            "metadata": {},
            "outputs": [],
            "source": [
                "df = df.drop_duplicates()"
            ]
        },
        {
            "cell_type": "code",
            "execution_count": 57,
            "metadata": {},
            "outputs": [
                {
                    "data": {
                        "text/plain": [
                            "(426880, 26)"
                        ]
                    },
                    "execution_count": 57,
                    "metadata": {},
                    "output_type": "execute_result"
                }
            ],
            "source": [
                "df.shape"
            ]
        },
        {
            "cell_type": "code",
            "execution_count": 35,
            "metadata": {},
            "outputs": [
                {
                    "data": {
                        "text/plain": [
                            "0                       NaN\n",
                            "1                       NaN\n",
                            "2                       NaN\n",
                            "3                       NaN\n",
                            "4                       NaN\n",
                            "                ...        \n",
                            "426875    1N4AA6AV6KC367801\n",
                            "426876    7JR102FKXLG042696\n",
                            "426877    1GYFZFR46LF088296\n",
                            "426878    58ABK1GG4JU103853\n",
                            "426879    WBA4J1C58KBM14708\n",
                            "Name: VIN, Length: 426880, dtype: object"
                        ]
                    },
                    "execution_count": 35,
                    "metadata": {},
                    "output_type": "execute_result"
                }
            ],
            "source": [
                "df['VIN']"
            ]
        },
        {
            "cell_type": "code",
            "execution_count": 38,
            "metadata": {},
            "outputs": [
                {
                    "data": {
                        "text/plain": [
                            "0           https://prescott.craigslist.org\n",
                            "1              https://fayar.craigslist.org\n",
                            "2               https://keys.craigslist.org\n",
                            "3          https://worcester.craigslist.org\n",
                            "4         https://greensboro.craigslist.org\n",
                            "                        ...                \n",
                            "426875       https://wyoming.craigslist.org\n",
                            "426876       https://wyoming.craigslist.org\n",
                            "426877       https://wyoming.craigslist.org\n",
                            "426878       https://wyoming.craigslist.org\n",
                            "426879       https://wyoming.craigslist.org\n",
                            "Name: region_url, Length: 426880, dtype: object"
                        ]
                    },
                    "execution_count": 38,
                    "metadata": {},
                    "output_type": "execute_result"
                }
            ],
            "source": [
                "df['region_url']"
            ]
        },
        {
            "cell_type": "code",
            "execution_count": 58,
            "metadata": {},
            "outputs": [],
            "source": [
                "columnas_eliminar = [\"county\", \"VIN\", \"region_url\", \"image_url\", \"description\", \"url\"]\n",
                "df = df.drop(columns = columnas_eliminar)"
            ]
        },
        {
            "cell_type": "code",
            "execution_count": 42,
            "metadata": {},
            "outputs": [
                {
                    "data": {
                        "text/plain": [
                            "(426880, 20)"
                        ]
                    },
                    "execution_count": 42,
                    "metadata": {},
                    "output_type": "execute_result"
                }
            ],
            "source": [
                "df.shape"
            ]
        },
        {
            "cell_type": "code",
            "execution_count": 59,
            "metadata": {},
            "outputs": [
                {
                    "data": {
                        "text/plain": [
                            "id                   0\n",
                            "region               0\n",
                            "price                0\n",
                            "year              1205\n",
                            "manufacturer     17646\n",
                            "model             5277\n",
                            "condition       174104\n",
                            "cylinders       177678\n",
                            "fuel              3013\n",
                            "odometer          4400\n",
                            "title_status      8242\n",
                            "transmission      2556\n",
                            "drive           130567\n",
                            "size            306361\n",
                            "type             92858\n",
                            "paint_color     130203\n",
                            "state                0\n",
                            "lat               6549\n",
                            "long              6549\n",
                            "posting_date        68\n",
                            "dtype: int64"
                        ]
                    },
                    "execution_count": 59,
                    "metadata": {},
                    "output_type": "execute_result"
                }
            ],
            "source": [
                "nulos = df.isnull().sum()\n",
                "nulos"
            ]
        },
        {
            "cell_type": "code",
            "execution_count": 60,
            "metadata": {},
            "outputs": [],
            "source": [
                "del_nulos = ['year','model','odometer','title_status','transmission','lat','long']\n",
                "df = df.dropna(subset= del_nulos )"
            ]
        },
        {
            "cell_type": "code",
            "execution_count": 61,
            "metadata": {},
            "outputs": [
                {
                    "data": {
                        "text/plain": [
                            "id                   0\n",
                            "region               0\n",
                            "price                0\n",
                            "year                 0\n",
                            "manufacturer     15832\n",
                            "model                0\n",
                            "condition       158721\n",
                            "cylinders       168477\n",
                            "fuel              1554\n",
                            "odometer             0\n",
                            "title_status         0\n",
                            "transmission         0\n",
                            "drive           121168\n",
                            "size            287711\n",
                            "type             88682\n",
                            "paint_color     118009\n",
                            "state                0\n",
                            "lat                  0\n",
                            "long                 0\n",
                            "posting_date         0\n",
                            "dtype: int64"
                        ]
                    },
                    "execution_count": 61,
                    "metadata": {},
                    "output_type": "execute_result"
                }
            ],
            "source": [
                "nulos = df.isnull().sum()\n",
                "nulos"
            ]
        },
        {
            "cell_type": "code",
            "execution_count": 49,
            "metadata": {},
            "outputs": [
                {
                    "data": {
                        "text/plain": [
                            "(400831, 20)"
                        ]
                    },
                    "execution_count": 49,
                    "metadata": {},
                    "output_type": "execute_result"
                }
            ],
            "source": [
                "df.shape"
            ]
        },
        {
            "cell_type": "code",
            "execution_count": 62,
            "metadata": {},
            "outputs": [],
            "source": [
                "# Crear un diccionario para mapear cada modelo a su fabricante más frecuente\n",
                "model_to_manufacturer = df.groupby('model')['manufacturer'].apply(lambda x: x.mode()[0] if not x.mode().empty else 'Unknown')\n",
                "\n",
                "# Función para rellenar los valores nulos de manufacturer\n",
                "def fill_manufacturer(row):\n",
                "    if pd.isnull(row['manufacturer']):\n",
                "        return model_to_manufacturer.get(row['model'], None)\n",
                "    return row['manufacturer']\n",
                "\n",
                "# Aplicar la función al DataFrame\n",
                "df['manufacturer'] = df.apply(fill_manufacturer, axis=1)\n"
            ]
        },
        {
            "cell_type": "code",
            "execution_count": 64,
            "metadata": {},
            "outputs": [
                {
                    "data": {
                        "text/plain": [
                            "id                   0\n",
                            "region               0\n",
                            "price                0\n",
                            "year                 0\n",
                            "manufacturer         0\n",
                            "model                0\n",
                            "condition       158721\n",
                            "cylinders       168477\n",
                            "fuel              1554\n",
                            "odometer             0\n",
                            "title_status         0\n",
                            "transmission         0\n",
                            "drive           121168\n",
                            "size            287711\n",
                            "type             88682\n",
                            "paint_color     118009\n",
                            "state                0\n",
                            "lat                  0\n",
                            "long                 0\n",
                            "posting_date         0\n",
                            "dtype: int64"
                        ]
                    },
                    "execution_count": 64,
                    "metadata": {},
                    "output_type": "execute_result"
                }
            ],
            "source": [
                "nulos = df.isnull().sum()\n",
                "nulos"
            ]
        },
        {
            "cell_type": "code",
            "execution_count": 67,
            "metadata": {},
            "outputs": [
                {
                    "data": {
                        "text/plain": [
                            "27           pickup\n",
                            "28           pickup\n",
                            "29           pickup\n",
                            "30           pickup\n",
                            "31            truck\n",
                            "            ...    \n",
                            "426875        sedan\n",
                            "426876        sedan\n",
                            "426877    hatchback\n",
                            "426878        sedan\n",
                            "426879        coupe\n",
                            "Name: type, Length: 400831, dtype: object"
                        ]
                    },
                    "execution_count": 67,
                    "metadata": {},
                    "output_type": "execute_result"
                }
            ],
            "source": [
                "df['type']"
            ]
        },
        {
            "cell_type": "code",
            "execution_count": 68,
            "metadata": {},
            "outputs": [],
            "source": [
                "# Crear un diccionario para mapear las combinaciones de model, manufacturer, y transmission al type más frecuente\n",
                "combination_to_type = df.groupby(['model', 'manufacturer', 'transmission'])['type'].apply(lambda x: x.mode()[0] if not x.mode().empty else None).to_dict()\n",
                "\n",
                "# Función para rellenar los valores nulos de type\n",
                "def fill_type(row):\n",
                "    if pd.isnull(row['type']):\n",
                "        return combination_to_type.get((row['model'], row['manufacturer'], row['transmission']), None)\n",
                "    return row['type']\n",
                "\n",
                "# Aplicar la función al DataFrame\n",
                "df['type'] = df.apply(fill_type, axis=1)\n",
                "\n",
                "# Reemplazar los valores NaN por cadenas vacías\n",
                "df['type'] = df['type'].fillna('')\n",
                "\n"
            ]
        },
        {
            "cell_type": "code",
            "execution_count": 70,
            "metadata": {},
            "outputs": [
                {
                    "data": {
                        "text/plain": [
                            "id                   0\n",
                            "region               0\n",
                            "price                0\n",
                            "year                 0\n",
                            "manufacturer         0\n",
                            "model                0\n",
                            "condition       158721\n",
                            "cylinders       168477\n",
                            "fuel              1554\n",
                            "odometer             0\n",
                            "title_status         0\n",
                            "transmission         0\n",
                            "drive           121168\n",
                            "size            287711\n",
                            "type                 0\n",
                            "paint_color     118009\n",
                            "state                0\n",
                            "lat                  0\n",
                            "long                 0\n",
                            "posting_date         0\n",
                            "dtype: int64"
                        ]
                    },
                    "execution_count": 70,
                    "metadata": {},
                    "output_type": "execute_result"
                }
            ],
            "source": [
                "nulos = df.isnull().sum()\n",
                "nulos"
            ]
        },
        {
            "cell_type": "code",
            "execution_count": 71,
            "metadata": {},
            "outputs": [],
            "source": [
                "combination_to_fuel = df.groupby(['model', 'manufacturer', 'transmission','type'])['fuel'].apply(lambda x: x.mode()[0] if not x.mode().empty else None).to_dict()\n",
                "\n",
                "def fill_fuel(row):\n",
                "    if pd.isnull(row['fuel']):\n",
                "        return combination_to_type.get((row['model'], row['manufacturer'], row['transmission'], row['type']), None)\n",
                "    return row['fuel']\n",
                "\n",
                "df['fuel'] = df.apply(fill_fuel, axis=1)\n",
                "\n",
                "df['fuel'] = df['fuel'].fillna('')"
            ]
        },
        {
            "cell_type": "code",
            "execution_count": 72,
            "metadata": {},
            "outputs": [
                {
                    "data": {
                        "text/plain": [
                            "id                   0\n",
                            "region               0\n",
                            "price                0\n",
                            "year                 0\n",
                            "manufacturer         0\n",
                            "model                0\n",
                            "condition       158721\n",
                            "cylinders       168477\n",
                            "fuel                 0\n",
                            "odometer             0\n",
                            "title_status         0\n",
                            "transmission         0\n",
                            "drive           121168\n",
                            "size            287711\n",
                            "type                 0\n",
                            "paint_color     118009\n",
                            "state                0\n",
                            "lat                  0\n",
                            "long                 0\n",
                            "posting_date         0\n",
                            "dtype: int64"
                        ]
                    },
                    "execution_count": 72,
                    "metadata": {},
                    "output_type": "execute_result"
                }
            ],
            "source": [
                "nulos = df.isnull().sum()\n",
                "nulos"
            ]
        }
    ],
    "metadata": {
        "kernelspec": {
            "display_name": "Python 3.8.13 64-bit ('3.8.13')",
            "language": "python",
            "name": "python3"
        },
        "language_info": {
            "codemirror_mode": {
                "name": "ipython",
                "version": 3
            },
            "file_extension": ".py",
            "mimetype": "text/x-python",
            "name": "python",
            "nbconvert_exporter": "python",
            "pygments_lexer": "ipython3",
            "version": "3.12.0"
        },
        "orig_nbformat": 4,
        "vscode": {
            "interpreter": {
                "hash": "110cc1dee26208153f2972f08a2ad52b6a56238dc66d48e87fb757ef2996db56"
            }
        }
    },
    "nbformat": 4,
    "nbformat_minor": 2
}
