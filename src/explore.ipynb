{
    "cells": [
        {
            "cell_type": "code",
            "execution_count": 34,
            "metadata": {},
            "outputs": [],
            "source": [
                "import os\n",
                "import kaggle\n",
                "import pandas as pd\n",
                "\n",
                "# Configurar las credenciales de Kaggle\n",
                "os.environ['KAGGLE_USERNAME'] = 'sergiogrigorow'\n",
                "os.environ['KAGGLE_KEY'] = '53eaa416645f87b31ba66153190551e0'\n",
                "\n",
                "# Autenticarse en Kaggle\n",
                "kaggle.api.authenticate()\n",
                "\n",
                "# Ruta donde se guardará el archivo descargado\n",
                "directorio = 'C:/Users/sergi/Proyectos/Proyecto_Final/data/raw'\n",
                "archivo_prueba = os.path.join(directorio, 'vehicles.csv')\n",
                "\n",
                "if not os.path.exists(archivo_prueba):\n",
                "    # Descargar y descomprimir el dataset\n",
                "    kaggle.api.dataset_download_files('austinreese/craigslist-carstrucks-data', path=directorio, unzip=True)\n",
                "else:\n",
                "    pass\n",
                "\n"
            ]
        },
        {
            "cell_type": "code",
            "execution_count": 64,
            "metadata": {},
            "outputs": [
                {
                    "name": "stdout",
                    "output_type": "stream",
                    "text": [
                        "           id                                                url  \\\n",
                        "0  7222695916  https://prescott.craigslist.org/cto/d/prescott...   \n",
                        "1  7218891961  https://fayar.craigslist.org/ctd/d/bentonville...   \n",
                        "2  7221797935  https://keys.craigslist.org/cto/d/summerland-k...   \n",
                        "3  7222270760  https://worcester.craigslist.org/cto/d/west-br...   \n",
                        "4  7210384030  https://greensboro.craigslist.org/cto/d/trinit...   \n",
                        "\n",
                        "                   region                         region_url  price  year  \\\n",
                        "0                prescott    https://prescott.craigslist.org   6000   NaN   \n",
                        "1            fayetteville       https://fayar.craigslist.org  11900   NaN   \n",
                        "2            florida keys        https://keys.craigslist.org  21000   NaN   \n",
                        "3  worcester / central MA   https://worcester.craigslist.org   1500   NaN   \n",
                        "4              greensboro  https://greensboro.craigslist.org   4900   NaN   \n",
                        "\n",
                        "  manufacturer model condition cylinders  ... size  type paint_color  \\\n",
                        "0          NaN   NaN       NaN       NaN  ...  NaN   NaN         NaN   \n",
                        "1          NaN   NaN       NaN       NaN  ...  NaN   NaN         NaN   \n",
                        "2          NaN   NaN       NaN       NaN  ...  NaN   NaN         NaN   \n",
                        "3          NaN   NaN       NaN       NaN  ...  NaN   NaN         NaN   \n",
                        "4          NaN   NaN       NaN       NaN  ...  NaN   NaN         NaN   \n",
                        "\n",
                        "  image_url description county state lat long posting_date  \n",
                        "0       NaN         NaN    NaN    az NaN  NaN          NaN  \n",
                        "1       NaN         NaN    NaN    ar NaN  NaN          NaN  \n",
                        "2       NaN         NaN    NaN    fl NaN  NaN          NaN  \n",
                        "3       NaN         NaN    NaN    ma NaN  NaN          NaN  \n",
                        "4       NaN         NaN    NaN    nc NaN  NaN          NaN  \n",
                        "\n",
                        "[5 rows x 26 columns]\n"
                    ]
                }
            ],
            "source": [
                "# Leer el archivo CSV descargado\n",
                "directorio_csv = os.path.join(directorio, 'vehicles.csv')\n",
                "df = pd.read_csv(directorio_csv,quotechar='\"')\n",
                "\n",
                "# Mostrar las primeras filas del DataFrame\n",
                "print(df.head())"
            ]
        },
        {
            "cell_type": "code",
            "execution_count": 65,
            "metadata": {},
            "outputs": [
                {
                    "name": "stdout",
                    "output_type": "stream",
                    "text": [
                        "<class 'pandas.core.frame.DataFrame'>\n",
                        "RangeIndex: 426880 entries, 0 to 426879\n",
                        "Data columns (total 26 columns):\n",
                        " #   Column        Non-Null Count   Dtype  \n",
                        "---  ------        --------------   -----  \n",
                        " 0   id            426880 non-null  int64  \n",
                        " 1   url           426880 non-null  object \n",
                        " 2   region        426880 non-null  object \n",
                        " 3   region_url    426880 non-null  object \n",
                        " 4   price         426880 non-null  int64  \n",
                        " 5   year          425675 non-null  float64\n",
                        " 6   manufacturer  409234 non-null  object \n",
                        " 7   model         421603 non-null  object \n",
                        " 8   condition     252776 non-null  object \n",
                        " 9   cylinders     249202 non-null  object \n",
                        " 10  fuel          423867 non-null  object \n",
                        " 11  odometer      422480 non-null  float64\n",
                        " 12  title_status  418638 non-null  object \n",
                        " 13  transmission  424324 non-null  object \n",
                        " 14  VIN           265838 non-null  object \n",
                        " 15  drive         296313 non-null  object \n",
                        " 16  size          120519 non-null  object \n",
                        " 17  type          334022 non-null  object \n",
                        " 18  paint_color   296677 non-null  object \n",
                        " 19  image_url     426812 non-null  object \n",
                        " 20  description   426810 non-null  object \n",
                        " 21  county        0 non-null       float64\n",
                        " 22  state         426880 non-null  object \n",
                        " 23  lat           420331 non-null  float64\n",
                        " 24  long          420331 non-null  float64\n",
                        " 25  posting_date  426812 non-null  object \n",
                        "dtypes: float64(5), int64(2), object(19)\n",
                        "memory usage: 84.7+ MB\n"
                    ]
                }
            ],
            "source": [
                "df.info()"
            ]
        },
        {
            "cell_type": "code",
            "execution_count": 66,
            "metadata": {},
            "outputs": [
                {
                    "data": {
                        "text/plain": [
                            "(426880, 26)"
                        ]
                    },
                    "execution_count": 66,
                    "metadata": {},
                    "output_type": "execute_result"
                }
            ],
            "source": [
                "df.shape"
            ]
        },
        {
            "cell_type": "code",
            "execution_count": 67,
            "metadata": {},
            "outputs": [],
            "source": [
                "# Eliminar columnas\n",
                "columnas_eliminar = [\"id\",\"county\", \"VIN\", \"region_url\", \"image_url\", \"description\", \"url\", \"cylinders\",\"posting_date\",\"title_status\"]\n",
                "df = df.drop(columns = columnas_eliminar)"
            ]
        },
        {
            "cell_type": "code",
            "execution_count": 69,
            "metadata": {},
            "outputs": [
                {
                    "data": {
                        "text/plain": [
                            "(426880, 16)"
                        ]
                    },
                    "execution_count": 69,
                    "metadata": {},
                    "output_type": "execute_result"
                }
            ],
            "source": [
                "df.shape"
            ]
        },
        {
            "cell_type": "code",
            "execution_count": 70,
            "metadata": {},
            "outputs": [
                {
                    "data": {
                        "text/plain": [
                            "region               0\n",
                            "price                0\n",
                            "year              1205\n",
                            "manufacturer     17646\n",
                            "model             5277\n",
                            "condition       174104\n",
                            "fuel              3013\n",
                            "odometer          4400\n",
                            "transmission      2556\n",
                            "drive           130567\n",
                            "size            306361\n",
                            "type             92858\n",
                            "paint_color     130203\n",
                            "state                0\n",
                            "lat               6549\n",
                            "long              6549\n",
                            "dtype: int64"
                        ]
                    },
                    "execution_count": 70,
                    "metadata": {},
                    "output_type": "execute_result"
                }
            ],
            "source": [
                "# Cantidad de valores nulos por columna\n",
                "nulos = df.isnull().sum()\n",
                "nulos"
            ]
        },
        {
            "cell_type": "code",
            "execution_count": 71,
            "metadata": {},
            "outputs": [
                {
                    "data": {
                        "text/plain": [
                            "region               0\n",
                            "price                0\n",
                            "year                 0\n",
                            "manufacturer         0\n",
                            "model                0\n",
                            "condition       153385\n",
                            "fuel                 0\n",
                            "odometer             0\n",
                            "transmission         0\n",
                            "drive           117578\n",
                            "size            282111\n",
                            "type             82674\n",
                            "paint_color     118063\n",
                            "state                0\n",
                            "lat                  0\n",
                            "long                 0\n",
                            "dtype: int64"
                        ]
                    },
                    "execution_count": 71,
                    "metadata": {},
                    "output_type": "execute_result"
                }
            ],
            "source": [
                "# Eliminar registros con valores nulos de columnas con pocos valores nulos\n",
                "del_nulos = ['year','model','odometer','transmission','lat','long','manufacturer','fuel']\n",
                "df = df.dropna(subset= del_nulos )\n",
                "nulos = df.isnull().sum()\n",
                "nulos"
            ]
        },
        {
            "cell_type": "code",
            "execution_count": 72,
            "metadata": {},
            "outputs": [
                {
                    "data": {
                        "text/plain": [
                            "(390219, 16)"
                        ]
                    },
                    "execution_count": 72,
                    "metadata": {},
                    "output_type": "execute_result"
                }
            ],
            "source": [
                "df.shape"
            ]
        },
        {
            "cell_type": "code",
            "execution_count": 73,
            "metadata": {},
            "outputs": [
                {
                    "data": {
                        "text/plain": [
                            "region               0\n",
                            "price                0\n",
                            "year                 0\n",
                            "manufacturer         0\n",
                            "model                0\n",
                            "condition       153385\n",
                            "fuel                 0\n",
                            "odometer             0\n",
                            "transmission         0\n",
                            "drive           117578\n",
                            "size            282111\n",
                            "type              8664\n",
                            "paint_color     118063\n",
                            "state                0\n",
                            "lat                  0\n",
                            "long                 0\n",
                            "dtype: int64"
                        ]
                    },
                    "execution_count": 73,
                    "metadata": {},
                    "output_type": "execute_result"
                }
            ],
            "source": [
                "# Completar datos faltantes en Type, a partir de la informacion del model, manufacturer, transmision y fuel\n",
                "# Crear un diccionario para mapear las combinaciones de model, manufacturer, y transmission al type más frecuente\n",
                "combination_to_type = df.groupby(['model', 'manufacturer', 'transmission','fuel'])['type'].apply(lambda x: x.mode()[0] if not x.mode().empty else None).to_dict()\n",
                "\n",
                "# Función para rellenar los valores nulos de type\n",
                "def fill_type(row):\n",
                "    if pd.isnull(row['type']):\n",
                "        return combination_to_type.get((row['model'], row['manufacturer'], row['transmission'],row['fuel']), None)\n",
                "    return row['type']\n",
                "\n",
                "# Aplicar la función al DataFrame\n",
                "df['type'] = df.apply(fill_type, axis=1)\n",
                "\n",
                "nulos = df.isnull().sum()\n",
                "nulos"
            ]
        },
        {
            "cell_type": "code",
            "execution_count": 74,
            "metadata": {},
            "outputs": [
                {
                    "data": {
                        "text/plain": [
                            "region               0\n",
                            "price                0\n",
                            "year                 0\n",
                            "manufacturer         0\n",
                            "model                0\n",
                            "condition       147212\n",
                            "fuel                 0\n",
                            "odometer             0\n",
                            "transmission         0\n",
                            "drive           111824\n",
                            "size            273705\n",
                            "type                 0\n",
                            "paint_color     111431\n",
                            "state                0\n",
                            "lat                  0\n",
                            "long                 0\n",
                            "dtype: int64"
                        ]
                    },
                    "execution_count": 74,
                    "metadata": {},
                    "output_type": "execute_result"
                }
            ],
            "source": [
                "# Eliminar los registros para los cuales no se pudo inferir un type en el paso anterior\n",
                "df = df.dropna(subset=['type'])\n",
                "nulos = df.isnull().sum()\n",
                "nulos"
            ]
        },
        {
            "cell_type": "code",
            "execution_count": 75,
            "metadata": {},
            "outputs": [
                {
                    "name": "stdout",
                    "output_type": "stream",
                    "text": [
                        "[nan 'rwd' '4wd' 'fwd']\n"
                    ]
                }
            ],
            "source": [
                "# Valores unicos en columna drive\n",
                "drive_unicos = df['drive'].unique()\n",
                "print(drive_unicos)"
            ]
        },
        {
            "cell_type": "code",
            "execution_count": 76,
            "metadata": {},
            "outputs": [
                {
                    "data": {
                        "text/plain": [
                            "region               0\n",
                            "price                0\n",
                            "year                 0\n",
                            "manufacturer         0\n",
                            "model                0\n",
                            "condition       147212\n",
                            "fuel                 0\n",
                            "odometer             0\n",
                            "transmission         0\n",
                            "drive            23630\n",
                            "size            273705\n",
                            "type                 0\n",
                            "paint_color     111431\n",
                            "state                0\n",
                            "lat                  0\n",
                            "long                 0\n",
                            "dtype: int64"
                        ]
                    },
                    "execution_count": 76,
                    "metadata": {},
                    "output_type": "execute_result"
                }
            ],
            "source": [
                "# Completar datos faltantes en drive, a partir de la informacion del model, manufacturer, transmision, type y fuel\n",
                "# Crear un diccionario para mapear las combinaciones de model, manufacturer, transmission, type y fuel al drive más frecuente\n",
                "\n",
                "combination_to_drive = df.groupby(['model', 'manufacturer', 'transmission','type','fuel'])['drive'].apply(lambda x: x.mode()[0] if not x.mode().empty else None).to_dict()\n",
                "\n",
                "# Función para rellenar los valores nulos de drive\n",
                "def fill_drive(row):\n",
                "    if pd.isnull(row['drive']):\n",
                "        return combination_to_drive.get((row['model'], row['manufacturer'], row['transmission'], row['type'],row['fuel']), None)\n",
                "    return row['drive']\n",
                "\n",
                "# Aplicar la función al DataFrame\n",
                "df['drive'] = df.apply(fill_drive, axis=1)\n",
                "\n",
                "nulos = df.isnull().sum()\n",
                "nulos"
            ]
        },
        {
            "cell_type": "code",
            "execution_count": 77,
            "metadata": {},
            "outputs": [
                {
                    "data": {
                        "text/plain": [
                            "region               0\n",
                            "price                0\n",
                            "year                 0\n",
                            "manufacturer         0\n",
                            "model                0\n",
                            "condition       144073\n",
                            "fuel                 0\n",
                            "odometer             0\n",
                            "transmission         0\n",
                            "drive                0\n",
                            "size            250826\n",
                            "type                 0\n",
                            "paint_color     104416\n",
                            "state                0\n",
                            "lat                  0\n",
                            "long                 0\n",
                            "dtype: int64"
                        ]
                    },
                    "execution_count": 77,
                    "metadata": {},
                    "output_type": "execute_result"
                }
            ],
            "source": [
                "# Eliminar los registros para los cuales no se pudo inferir un type en el paso anterior\n",
                "df = df.dropna(subset=['drive'])\n",
                "nulos = df.isnull().sum()\n",
                "nulos"
            ]
        },
        {
            "cell_type": "code",
            "execution_count": 78,
            "metadata": {},
            "outputs": [
                {
                    "data": {
                        "text/plain": [
                            "region               0\n",
                            "price                0\n",
                            "year                 0\n",
                            "manufacturer         0\n",
                            "model                0\n",
                            "condition       144073\n",
                            "fuel                 0\n",
                            "odometer             0\n",
                            "transmission         0\n",
                            "drive                0\n",
                            "size             76003\n",
                            "type                 0\n",
                            "paint_color     104416\n",
                            "state                0\n",
                            "lat                  0\n",
                            "long                 0\n",
                            "dtype: int64"
                        ]
                    },
                    "execution_count": 78,
                    "metadata": {},
                    "output_type": "execute_result"
                }
            ],
            "source": [
                "# Se repite el mismo paso anterior, esta vez para encontrar los \"size\" faltantes\n",
                "combination_to_size = df.groupby(['model', 'manufacturer', 'transmission','type','drive'])['size'].apply(lambda x: x.mode()[0] if not x.mode().empty else None).to_dict()\n",
                "\n",
                "def fill_size(row):\n",
                "    if pd.isnull(row['size']):\n",
                "        return combination_to_size.get((row['model'], row['manufacturer'], row['transmission'], row['type'], row['drive']), None)\n",
                "    return row['size']\n",
                "\n",
                "df['size'] = df.apply(fill_size, axis=1)\n",
                "\n",
                "nulos = df.isnull().sum()\n",
                "nulos"
            ]
        },
        {
            "cell_type": "code",
            "execution_count": 79,
            "metadata": {},
            "outputs": [
                {
                    "data": {
                        "text/plain": [
                            "(357925, 16)"
                        ]
                    },
                    "execution_count": 79,
                    "metadata": {},
                    "output_type": "execute_result"
                }
            ],
            "source": [
                "df.shape"
            ]
        },
        {
            "cell_type": "code",
            "execution_count": 80,
            "metadata": {},
            "outputs": [
                {
                    "name": "stdout",
                    "output_type": "stream",
                    "text": [
                        "Valores unicos en: 'region': 404\n",
                        "Valores unicos en: 'price': 14594\n",
                        "Valores unicos en: 'year': 105\n",
                        "Valores unicos en: 'manufacturer': 41\n",
                        "Valores unicos en: 'model': 17377\n",
                        "Valores unicos en: 'condition': 6\n",
                        "Valores unicos en: 'fuel': 5\n",
                        "Valores unicos en: 'odometer': 96683\n",
                        "Valores unicos en: 'transmission': 3\n",
                        "Valores unicos en: 'drive': 3\n",
                        "Valores unicos en: 'size': 4\n",
                        "Valores unicos en: 'type': 13\n",
                        "Valores unicos en: 'paint_color': 12\n",
                        "Valores unicos en: 'state': 51\n",
                        "Valores unicos en: 'lat': 48515\n",
                        "Valores unicos en: 'long': 49020\n"
                    ]
                }
            ],
            "source": [
                "# Cantidad de valores unicos por cada columna\n",
                "# Iterar sobre las columnas del DataFrame\n",
                "for columna in df.columns:\n",
                "    # Calcular la cantidad de valores únicos en cada columna\n",
                "    cantidad_valores_unicos = df[columna].nunique()\n",
                "    # Imprimir la cantidad de valores únicos en la columna actual\n",
                "    print(f\"Valores unicos en: '{columna}': {cantidad_valores_unicos}\")\n"
            ]
        },
        {
            "cell_type": "code",
            "execution_count": 81,
            "metadata": {},
            "outputs": [
                {
                    "name": "stdout",
                    "output_type": "stream",
                    "text": [
                        "type\n",
                        "sedan          97489\n",
                        "SUV            89764\n",
                        "pickup         44131\n",
                        "truck          43299\n",
                        "coupe          18877\n",
                        "hatchback      15603\n",
                        "other          13101\n",
                        "wagon          10854\n",
                        "van             9530\n",
                        "convertible     7425\n",
                        "mini-van        6850\n",
                        "offroad          620\n",
                        "bus              382\n",
                        "Name: count, dtype: int64\n"
                    ]
                }
            ],
            "source": [
                "print(df['type'].value_counts())"
            ]
        },
        {
            "cell_type": "code",
            "execution_count": 82,
            "metadata": {},
            "outputs": [
                {
                    "name": "stdout",
                    "output_type": "stream",
                    "text": [
                        "manufacturer\n",
                        "ford               63605\n",
                        "chevrolet          50021\n",
                        "toyota             30994\n",
                        "honda              19583\n",
                        "jeep               17857\n",
                        "nissan             17503\n",
                        "ram                15405\n",
                        "gmc                14599\n",
                        "dodge              12326\n",
                        "bmw                10689\n",
                        "hyundai             9522\n",
                        "mercedes-benz       8730\n",
                        "volkswagen          8288\n",
                        "subaru              7986\n",
                        "kia                 7773\n",
                        "lexus               7109\n",
                        "cadillac            6010\n",
                        "chrysler            5631\n",
                        "mazda               5037\n",
                        "buick               4943\n",
                        "acura               4521\n",
                        "audi                4438\n",
                        "infiniti            4052\n",
                        "lincoln             3695\n",
                        "mitsubishi          2990\n",
                        "volvo               2557\n",
                        "pontiac             2095\n",
                        "mini                2013\n",
                        "rover               1584\n",
                        "jaguar              1135\n",
                        "mercury             1103\n",
                        "saturn              1004\n",
                        "porsche              977\n",
                        "tesla                774\n",
                        "fiat                 742\n",
                        "alfa-romeo           427\n",
                        "harley-davidson       66\n",
                        "datsun                51\n",
                        "ferrari               49\n",
                        "aston-martin          22\n",
                        "land rover            19\n",
                        "Name: count, dtype: int64\n"
                    ]
                }
            ],
            "source": [
                "print(df['manufacturer'].value_counts())\n"
            ]
        },
        {
            "cell_type": "code",
            "execution_count": 83,
            "metadata": {},
            "outputs": [
                {
                    "name": "stdout",
                    "output_type": "stream",
                    "text": [
                        "model\n",
                        "f-150                      7524\n",
                        "silverado 1500             4765\n",
                        "1500                       4134\n",
                        "camry                      3052\n",
                        "silverado                  2945\n",
                        "                           ... \n",
                        "silverado hd3500              1\n",
                        "wrx sti limited awd           1\n",
                        "pilot awd 3rd row seats       1\n",
                        "qx56 awd                      1\n",
                        "gand wagoneer                 1\n",
                        "Name: count, Length: 17377, dtype: int64\n"
                    ]
                }
            ],
            "source": [
                "print(df['model'].value_counts())"
            ]
        },
        {
            "cell_type": "code",
            "execution_count": 84,
            "metadata": {},
            "outputs": [
                {
                    "name": "stdout",
                    "output_type": "stream",
                    "text": [
                        "model\n",
                        "camry                        3052\n",
                        "tacoma                       2432\n",
                        "corolla                      2141\n",
                        "rav4                         1651\n",
                        "prius                        1345\n",
                        "tundra                       1310\n",
                        "sienna                       1088\n",
                        "4runner                      1045\n",
                        "highlander                   1024\n",
                        "camry le                      515\n",
                        "tacoma access cab pickup      468\n",
                        "avalon                        408\n",
                        "corolla le                    396\n",
                        "4runner sr5 sport utility     352\n",
                        "tundra crewmax sr5 pickup     301\n",
                        "tundra double cab sr          288\n",
                        "sienna le                     277\n",
                        "camry se                      269\n",
                        "fj cruiser                    264\n",
                        "tacoma double cab pickup      253\n",
                        "sequoia                       237\n",
                        "yaris                         221\n",
                        "4runner sr5                   216\n",
                        "venza                         187\n",
                        "land cruiser                  186\n",
                        "sienna xle                    177\n",
                        "camry le sedan 4d             176\n",
                        "camry xle                     169\n",
                        "corolla s                     168\n",
                        "prius hybrid                  161\n",
                        "tundra sr5                    150\n",
                        "matrix                        146\n",
                        "4runner limited sport         142\n",
                        "prius v                       141\n",
                        "tacoma 4x4                    128\n",
                        "tacoma access cab sr          127\n",
                        "tacoma double cab trd         126\n",
                        "highlander limited            123\n",
                        "4-runner                      120\n",
                        "camry hybrid                  119\n",
                        "corolla le sedan 4d           117\n",
                        "tacoma double cab             112\n",
                        "prius c                       112\n",
                        "tundra 4wd truck              112\n",
                        "4runner limited               108\n",
                        "tacoma prerunner              105\n",
                        "Name: count, dtype: int64\n"
                    ]
                }
            ],
            "source": [
                "toyota_df = df[df['manufacturer'] == 'toyota']\n",
                "model_counts_toyota = toyota_df['model'].value_counts()\n",
                "model_counts_toyota_top = model_counts_toyota[model_counts_toyota > 100]\n",
                "print(model_counts_toyota_top)"
            ]
        },
        {
            "cell_type": "code",
            "execution_count": 85,
            "metadata": {},
            "outputs": [],
            "source": [
                "df.to_csv(\"C:\\\\Users\\\\sergi\\\\Proyectos\\\\Proyecto_Final\\\\data\\\\processed\\\\vehicles_clean.csv\", index=False)"
            ]
        }
    ],
    "metadata": {
        "kernelspec": {
            "display_name": "Python 3.8.13 64-bit ('3.8.13')",
            "language": "python",
            "name": "python3"
        },
        "language_info": {
            "codemirror_mode": {
                "name": "ipython",
                "version": 3
            },
            "file_extension": ".py",
            "mimetype": "text/x-python",
            "name": "python",
            "nbconvert_exporter": "python",
            "pygments_lexer": "ipython3",
            "version": "3.12.0"
        },
        "orig_nbformat": 4,
        "vscode": {
            "interpreter": {
                "hash": "110cc1dee26208153f2972f08a2ad52b6a56238dc66d48e87fb757ef2996db56"
            }
        }
    },
    "nbformat": 4,
    "nbformat_minor": 2
}
