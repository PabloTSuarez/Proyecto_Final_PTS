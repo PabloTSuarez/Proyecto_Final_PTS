{
 "cells": [
  {
   "cell_type": "code",
   "execution_count": 81,
   "metadata": {},
   "outputs": [],
   "source": [
    "import pandas as pd\n",
    "from fuzzywuzzy import fuzz\n",
    "\n",
    "vehicles_df = pd.read_csv('c://users//Sergi//proyectos//proyecto_final//data//processed//vehicles_clean2.csv',quotechar='\"')\n",
    "dictionary_df = pd.read_csv('c://users//Sergi///diccionario_modelos.csv')\n"
   ]
  },
  {
   "cell_type": "code",
   "execution_count": 82,
   "metadata": {},
   "outputs": [],
   "source": [
    "# Eliminar guiones en ambas columnas 'model'\n",
    "vehicles_df['model'] = vehicles_df['model'].str.replace('-', '')\n",
    "dictionary_df['model'] = dictionary_df['model'].str.replace('-', '')"
   ]
  },
  {
   "cell_type": "code",
   "execution_count": 83,
   "metadata": {},
   "outputs": [],
   "source": [
    "# Convertir las columnas a minúsculas\n",
    "vehicles_df['model'] = vehicles_df['model'].str.lower()\n",
    "dictionary_df['model'] = dictionary_df['model'].str.lower()"
   ]
  },
  {
   "cell_type": "code",
   "execution_count": 84,
   "metadata": {},
   "outputs": [],
   "source": [
    "# Establecer umbral de coincidencia\n",
    "umbral_coincidencia = 0.8  # Ajusta este valor según tu criteri"
   ]
  },
  {
   "cell_type": "code",
   "execution_count": 85,
   "metadata": {},
   "outputs": [],
   "source": [
    "# Agrupar por similitud\n",
    "for i, row in vehicles_df.iterrows():\n",
    "    model_actual = row['model']\n",
    "    coincidencias = []\n",
    "\n",
    "    for modelo_dict in dictionary_df['model']:\n",
    "        similitud = fuzz.token_set_ratio(model_actual, modelo_dict)\n",
    "        if similitud >= umbral_coincidencia:\n",
    "            coincidencias.append((modelo_dict, similitud))\n",
    "\n",
    "    if coincidencias:\n",
    "        # Seleccionar el modelo con mayor similitud\n",
    "        modelo_coincidente, similitud_maxima = max(coincidencias, key=lambda x: x[1])\n",
    "        vehicles_df.loc[i, 'model'] = modelo_coincidente\n",
    "# Asignar nombre al DataFrame final\n",
    "vehicles_df.name = 'modelos_agrupados_estandarizados'"
   ]
  },
  {
   "cell_type": "code",
   "execution_count": 87,
   "metadata": {},
   "outputs": [],
   "source": [
    "# Guardar el DataFrame procesado si es necesario\n",
    "vehicles_df.to_csv('c://users//Sergi///archivo_estandarizado.csv', index=False)"
   ]
  }
 ],
 "metadata": {
  "kernelspec": {
   "display_name": "Python 3",
   "language": "python",
   "name": "python3"
  },
  "language_info": {
   "codemirror_mode": {
    "name": "ipython",
    "version": 3
   },
   "file_extension": ".py",
   "mimetype": "text/x-python",
   "name": "python",
   "nbconvert_exporter": "python",
   "pygments_lexer": "ipython3",
   "version": "3.12.0"
  }
 },
 "nbformat": 4,
 "nbformat_minor": 2
}
